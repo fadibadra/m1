{
 "cells": [
  {
   "cell_type": "markdown",
   "metadata": {},
   "source": [
    "## Comment utiliser ce notebook\n",
    "Cliquer sur une cellule et presser Entrée pour éditer une cellule.<br/>\n",
    "Appuyer sur Shift+Entrée pour exécuter la cellule.<br/>\n",
    "Pour répondre à un exercice, remplacer le bloc\n",
    "```python\n",
    "# DEBUT : à modifier par l'étudiant\n",
    "pass\n",
    "# FIN : à modifier par l'étudiant\n",
    "```\n",
    "par votre code et exécuter la cellule.\n",
    "<hr/>"
   ]
  },
  {
   "cell_type": "markdown",
   "metadata": {},
   "source": [
    "Sous-sections :\n",
    "[Les littéraux](#litteraux)&nbsp;\n",
    "[Les séquences](#sequences)&nbsp;\n",
    "[Exemple d'application : la similarite cosinus](#cosin)&nbsp;"
   ]
  },
  {
   "cell_type": "markdown",
   "metadata": {},
   "source": [
    "## Le modèle de données de Python"
   ]
  },
  {
   "cell_type": "markdown",
   "metadata": {},
   "source": [
    "En Python, les données sont représentées sous forme d’« objets ». <br/>\n",
    "Tout objet (au sens Python)\n",
    "est constitué d’un **identifiant** (son adresse mémoire), un **type**, et une **valeur**.<br/>\n",
    "Une variable est un nom (a, b, c...) que l'on choisit, et qui sert à référencer un objet stocké en mémoire.<br/>\n",
    "Par exemple, dans le programme suivant, la variable a référence un littéral prédéfini dont le type est int (entier naturel) et la valeur est 3 :"
   ]
  },
  {
   "cell_type": "code",
   "execution_count": null,
   "metadata": {},
   "outputs": [],
   "source": [
    "a = 3\n",
    "print(id(3))\n",
    "print(id(a))\n",
    "print(type(3))\n",
    "print(type(a))\n",
    "print(a)"
   ]
  },
  {
   "cell_type": "markdown",
   "metadata": {},
   "source": [
    "<div class=\"alert alert-block alert-success\">\n",
    "    <b>Exercice.</b>\n",
    "    On écrit le programme suivant :\n",
    "</div>"
   ]
  },
  {
   "cell_type": "code",
   "execution_count": null,
   "metadata": {},
   "outputs": [],
   "source": [
    "a = 5\n",
    "b = a\n",
    "a = 18\n",
    "print(b)"
   ]
  },
  {
   "cell_type": "markdown",
   "metadata": {},
   "source": [
    "<div class=\"alert alert-block alert-success\">\n",
    "    Que va afficher ce code ? Pourquoi ?<br/>\n",
    "    Ecrire un programme qui affiche l'identifiant, le type et la valeur des variables a et b.\n",
    "</div>\n"
   ]
  },
  {
   "cell_type": "code",
   "execution_count": null,
   "metadata": {},
   "outputs": [],
   "source": [
    "# DEBUT : à modifier par l'étudiant\n",
    "pass\n",
    "# FIN : à modifier par l'étudiant"
   ]
  },
  {
   "cell_type": "markdown",
   "metadata": {},
   "source": [
    "<a id=\"litteraux\"></a>\n",
    "### Les littéraux"
   ]
  },
  {
   "cell_type": "markdown",
   "metadata": {},
   "source": [
    "Les littéraux sont des valeurs constantes de certains types prédéfinis. \n",
    "Ils sont reconnus par l’analyseur lexical d’après leur forme.<br/>\n",
    "Parmi les littéraux, on trouve :\n",
    "- les chaînes de caractères\n",
    "- les nombres\n",
    "- le littéral None\n",
    "\n",
    "Voici quelques exemples de littéraux :"
   ]
  },
  {
   "cell_type": "code",
   "execution_count": null,
   "metadata": {},
   "outputs": [],
   "source": [
    "\"Alicia a bien mangé.\\n\" \n",
    "'ATGATTCGT'              \n",
    "'''\n",
    "Une chaîne de caractères\n",
    "sur plusieurs lignes\n",
    "'''\n",
    "4\n",
    "3.7\n",
    "2e-8\n",
    "0x0a\n",
    "0b_11011010\n",
    "True\n",
    "False\n",
    "1+6j\n",
    "None"
   ]
  },
  {
   "cell_type": "markdown",
   "metadata": {},
   "source": [
    "<div class=\"alert alert-block alert-success\">\n",
    "    <b>Exercice.</b>\n",
    "    Afficher l'identifiant, le type et la valeur des littéraux suivants :\n",
    "    \n",
    "```python\n",
    "'Un\\nDeux\\nTrois'\n",
    "18\n",
    "99.3\n",
    "True\n",
    "None\n",
    "```\n",
    "</div>\n",
    "\n"
   ]
  },
  {
   "cell_type": "code",
   "execution_count": null,
   "metadata": {},
   "outputs": [],
   "source": [
    "# DEBUT : à modifier par l'étudiant\n",
    "pass\n",
    "# FIN : à modifier par l'étudiant"
   ]
  },
  {
   "cell_type": "markdown",
   "metadata": {},
   "source": [
    "<a id=\"sequences\"></a>\n",
    "### Les séquences"
   ]
  },
  {
   "attachments": {
    "image.png": {
     "image/png": "[encoded data removed]"
    }
   },
   "cell_type": "markdown",
   "metadata": {},
   "source": [
    "Les séquences sont des suites de taille finie indicées par des entiers naturels positifs\n",
    "ou nuls.\n",
    "![image.png](attachment:image.png)"
   ]
  },
  {
   "cell_type": "markdown",
   "metadata": {},
   "source": [
    "Pour une séquence a :\n",
    "- len(a) renvoie le nombre d’élément de la séquence\n",
    "- l'opération a[indice] renvoie l’élément à l’indice indice dans la séquence.\n",
    "- l'opération a[debut:fin] renvoie la sous-liste de l’indice debut inclus à l’indice\n",
    "fin exclus.\n",
    "- l'opération a[debut:fin:n] renvoie la sous-liste de l’indice debut à l’indice\n",
    "fin, en prenant un élément tous les n éléments\n",
    "- Si le nombre n est négatif, on peut aussi utiliser cette opération pour parcourir\n",
    "la séquence en arrière, de l’indice debut à l’indice fin\n",
    "\n",
    "Voici quelques exemples :"
   ]
  },
  {
   "cell_type": "code",
   "execution_count": 1,
   "metadata": {},
   "outputs": [
    {
     "name": "stdout",
     "output_type": "stream",
     "text": [
      "P\n",
      "o\n",
      "th\n",
      "Pto\n",
      "nh\n",
      "nohtyP\n"
     ]
    }
   ],
   "source": [
    "a = 'Python'\n",
    "print(a[0])\n",
    "print(a[-2])\n",
    "print(a[2:4])\n",
    "print(a[::2])\n",
    "print(a[6:2:-2])\n",
    "print(a[::-1])"
   ]
  },
  {
   "cell_type": "markdown",
   "metadata": {},
   "source": [
    "<div class=\"alert alert-block alert-success\">\n",
    "    <b>Exercice.</b>\n",
    "    Afficher le nombre de caractères de la séquence fyuA_r.\n",
    "</div>"
   ]
  },
  {
   "cell_type": "code",
   "execution_count": null,
   "metadata": {},
   "outputs": [],
   "source": [
    "fyuA_r = \"TCAGAAGAAATCAATTCGCGTATTGATACCGACGGTGCGACCCATATTGACCTGCGCGACGGCGCTGCTGCCGTTCATGTAGCCATAGGTACGGTAACGACGGTCGAACAGGTTATCGACATAGACGGAAATGTTCATCCGTTCAGTCGCCTGCCAGCCCAGGCTGCTGTCCAGGGTGGCATAGGTGCCTTGCCGCAACTGGTTGTCGCCATCGTAATAATGCGGCCCGACCAGATTAACCGCCAGTCGGGGCATCAGTGCGCCATAGCGCGTATCAATCACGCCGTTCACGCTGCTTCCCGCGCCATAACGTGGTACGAACGGCACCCGGTTACCGTGATACAACTCACTGTCATTGGTGAATTCGGAACGGATCACGTTGCCATTGATATCCCATGACCAGCCTGGCGCAAACCGCCACTTCGCTTCAAGCTCAACGCCGGTGGCGTCGGCTTTACCCGCATTGCTTAATGTCTGCATCCCGACCGGGCCAGAGTAAAGCTGAATGTCTTTGGTGTGGGTATAAAACGTCGCGGCTTGCAGCGTGACGTCAGCGGTTTCGTAGCGGGTGCCAAGTTCATAGTTGATGGATTTCTCGGCGACGAACGGTTTGGCATCAAGACCCGCAGTAGGCACGATGTTGTACCCGGAAGGTTTATATCCCTGGGCTACACGGGTATACACTCTCCAGTCATCGGTCAGCATATAGCCTGCGGATAGCTGCCCGAGCACCTGATCGTCATTGCTCTTACCCTGGTCGCCAAACGGGTTGCCGAGCATGCTGCCGTGATATTGTGTACTGGATTTATCATGCGAGAAGCGCACGCCGCCGCCGATTTCAAAACGATCGGTTAAATGCCAGGTCAGGTCACTGTATGCGGCCAGCGTTTCAGCGGTGGTATAGCCGGTACTGCTTAAATAAGGCATTGTCGGCATGTCGTAGGCTGAATTTAACTTCTCGCGGGTGTTCTGCCGGTACAGCCCAAACACCATATCAACGGTACGCGCATCGCCCAGGGTTGCGGCGCGCAGCTCCTGCACATCCTGATTCCAGCGCTGAGGCATATTGACGATTAACGAACCGGAAGGGAAGGTGCGCGAATAATGCTGCTGGTGCCAGGCGCTGATCAGGTTGAAAACCCAGTCATCGGTGGTGTATTTACCACTCAGGGTCTGGCTGTCAGTGCAGCGCCGCATGTACGGGTCTGGTGAACCATCGCTGATCGACAGCTTACGGCCCTTAATATCATTCCATCCCACATAGGCGTCCTGGGTGGCGCGGGTACATTCGCGTGAGGCGGCAAAGCCCATTTCCCAGGGCTGATCGTCCGGCGCCAGACGCAGTTTCACATTCCCTATGCTGGCGCGGGTGCCGCCTAAGTCATCGCTTCCCGTCGCGGGGTTAATCATGTCGCCGTCATCAACCTGGCGTAACAGGGTGACGCTGCCGTACAGCAGGCCATCCTGAATGGGGCCGCTCAGGTTGAACTTACTTCGATAACTGTCGCGGCTACTGACGCCGCCTTCAATATAGCCGCGCGGCGTGCTGTCCGGCTGCTGGGTGACGATGTTGATGATCCCGCCCTGAGCGCTTTTGCCATATAACGTTCCCTGTGGGCCTCGCAGCAACTCCACGCTTTGCACATCGGTAAGCGCCTGGATGGTGTTGGTGGAAAGCTGAGGGACGCCATCGACATACAGGGTGACGGCGGGGTTATAGAAGTCCTGCGCTGAAGAGACGCCGCGTAGCGAGATCGTCGAAAAAAGCATGTTGCCGCTATTTTCAATATTGAGCCCGGGCAAGACTCTGGGGAGTTTGTCGCTGGCGGTGACGCCGGCGTCGCTTAATTCCGGCGCGCTGACAACAGTAGACGAGACGTTGTTGGCTGATGCCGAGCGGGAAGATTGTTTACTGGCGGTAACCACCAGCGTGCTTTCGTCTTGCTGTGAAGTCTGGGCATTAGCAATGGCGGGGAGCAATAATCCCCCCAAGGCCAGAGGATAAAGCCGTGTCATTTTCAT\"\n",
    "# DEBUT : à modifier par l'étudiant\n",
    "pass\n",
    "# FIN : à modifier par l'étudiant"
   ]
  },
  {
   "cell_type": "markdown",
   "metadata": {},
   "source": [
    "<div class=\"alert alert-block alert-success\">\n",
    "    <b>Exercice.</b>\n",
    "    Afficher le premier élément de la séquence fyuA_r.\n",
    "</div>"
   ]
  },
  {
   "cell_type": "code",
   "execution_count": null,
   "metadata": {},
   "outputs": [],
   "source": [
    "fyuA_r = \"TCAGAAGAAATCAATTCGCGTATTGATACCGACGGTGCGACCCATATTGACCTGCGCGACGGCGCTGCTGCCGTTCATGTAGCCATAGGTACGGTAACGACGGTCGAACAGGTTATCGACATAGACGGAAATGTTCATCCGTTCAGTCGCCTGCCAGCCCAGGCTGCTGTCCAGGGTGGCATAGGTGCCTTGCCGCAACTGGTTGTCGCCATCGTAATAATGCGGCCCGACCAGATTAACCGCCAGTCGGGGCATCAGTGCGCCATAGCGCGTATCAATCACGCCGTTCACGCTGCTTCCCGCGCCATAACGTGGTACGAACGGCACCCGGTTACCGTGATACAACTCACTGTCATTGGTGAATTCGGAACGGATCACGTTGCCATTGATATCCCATGACCAGCCTGGCGCAAACCGCCACTTCGCTTCAAGCTCAACGCCGGTGGCGTCGGCTTTACCCGCATTGCTTAATGTCTGCATCCCGACCGGGCCAGAGTAAAGCTGAATGTCTTTGGTGTGGGTATAAAACGTCGCGGCTTGCAGCGTGACGTCAGCGGTTTCGTAGCGGGTGCCAAGTTCATAGTTGATGGATTTCTCGGCGACGAACGGTTTGGCATCAAGACCCGCAGTAGGCACGATGTTGTACCCGGAAGGTTTATATCCCTGGGCTACACGGGTATACACTCTCCAGTCATCGGTCAGCATATAGCCTGCGGATAGCTGCCCGAGCACCTGATCGTCATTGCTCTTACCCTGGTCGCCAAACGGGTTGCCGAGCATGCTGCCGTGATATTGTGTACTGGATTTATCATGCGAGAAGCGCACGCCGCCGCCGATTTCAAAACGATCGGTTAAATGCCAGGTCAGGTCACTGTATGCGGCCAGCGTTTCAGCGGTGGTATAGCCGGTACTGCTTAAATAAGGCATTGTCGGCATGTCGTAGGCTGAATTTAACTTCTCGCGGGTGTTCTGCCGGTACAGCCCAAACACCATATCAACGGTACGCGCATCGCCCAGGGTTGCGGCGCGCAGCTCCTGCACATCCTGATTCCAGCGCTGAGGCATATTGACGATTAACGAACCGGAAGGGAAGGTGCGCGAATAATGCTGCTGGTGCCAGGCGCTGATCAGGTTGAAAACCCAGTCATCGGTGGTGTATTTACCACTCAGGGTCTGGCTGTCAGTGCAGCGCCGCATGTACGGGTCTGGTGAACCATCGCTGATCGACAGCTTACGGCCCTTAATATCATTCCATCCCACATAGGCGTCCTGGGTGGCGCGGGTACATTCGCGTGAGGCGGCAAAGCCCATTTCCCAGGGCTGATCGTCCGGCGCCAGACGCAGTTTCACATTCCCTATGCTGGCGCGGGTGCCGCCTAAGTCATCGCTTCCCGTCGCGGGGTTAATCATGTCGCCGTCATCAACCTGGCGTAACAGGGTGACGCTGCCGTACAGCAGGCCATCCTGAATGGGGCCGCTCAGGTTGAACTTACTTCGATAACTGTCGCGGCTACTGACGCCGCCTTCAATATAGCCGCGCGGCGTGCTGTCCGGCTGCTGGGTGACGATGTTGATGATCCCGCCCTGAGCGCTTTTGCCATATAACGTTCCCTGTGGGCCTCGCAGCAACTCCACGCTTTGCACATCGGTAAGCGCCTGGATGGTGTTGGTGGAAAGCTGAGGGACGCCATCGACATACAGGGTGACGGCGGGGTTATAGAAGTCCTGCGCTGAAGAGACGCCGCGTAGCGAGATCGTCGAAAAAAGCATGTTGCCGCTATTTTCAATATTGAGCCCGGGCAAGACTCTGGGGAGTTTGTCGCTGGCGGTGACGCCGGCGTCGCTTAATTCCGGCGCGCTGACAACAGTAGACGAGACGTTGTTGGCTGATGCCGAGCGGGAAGATTGTTTACTGGCGGTAACCACCAGCGTGCTTTCGTCTTGCTGTGAAGTCTGGGCATTAGCAATGGCGGGGAGCAATAATCCCCCCAAGGCCAGAGGATAAAGCCGTGTCATTTTCAT\"\n",
    "# DEBUT : à modifier par l'étudiant\n",
    "pass\n",
    "# FIN : à modifier par l'étudiant"
   ]
  },
  {
   "cell_type": "markdown",
   "metadata": {},
   "source": [
    "<div class=\"alert alert-block alert-success\">\n",
    "    <b>Exercice.</b>\n",
    "    Afficher les 10 premiers éléments de la séquence fyuA_r.\n",
    "</div>"
   ]
  },
  {
   "cell_type": "code",
   "execution_count": null,
   "metadata": {},
   "outputs": [],
   "source": [
    "fyuA_r = \"TCAGAAGAAATCAATTCGCGTATTGATACCGACGGTGCGACCCATATTGACCTGCGCGACGGCGCTGCTGCCGTTCATGTAGCCATAGGTACGGTAACGACGGTCGAACAGGTTATCGACATAGACGGAAATGTTCATCCGTTCAGTCGCCTGCCAGCCCAGGCTGCTGTCCAGGGTGGCATAGGTGCCTTGCCGCAACTGGTTGTCGCCATCGTAATAATGCGGCCCGACCAGATTAACCGCCAGTCGGGGCATCAGTGCGCCATAGCGCGTATCAATCACGCCGTTCACGCTGCTTCCCGCGCCATAACGTGGTACGAACGGCACCCGGTTACCGTGATACAACTCACTGTCATTGGTGAATTCGGAACGGATCACGTTGCCATTGATATCCCATGACCAGCCTGGCGCAAACCGCCACTTCGCTTCAAGCTCAACGCCGGTGGCGTCGGCTTTACCCGCATTGCTTAATGTCTGCATCCCGACCGGGCCAGAGTAAAGCTGAATGTCTTTGGTGTGGGTATAAAACGTCGCGGCTTGCAGCGTGACGTCAGCGGTTTCGTAGCGGGTGCCAAGTTCATAGTTGATGGATTTCTCGGCGACGAACGGTTTGGCATCAAGACCCGCAGTAGGCACGATGTTGTACCCGGAAGGTTTATATCCCTGGGCTACACGGGTATACACTCTCCAGTCATCGGTCAGCATATAGCCTGCGGATAGCTGCCCGAGCACCTGATCGTCATTGCTCTTACCCTGGTCGCCAAACGGGTTGCCGAGCATGCTGCCGTGATATTGTGTACTGGATTTATCATGCGAGAAGCGCACGCCGCCGCCGATTTCAAAACGATCGGTTAAATGCCAGGTCAGGTCACTGTATGCGGCCAGCGTTTCAGCGGTGGTATAGCCGGTACTGCTTAAATAAGGCATTGTCGGCATGTCGTAGGCTGAATTTAACTTCTCGCGGGTGTTCTGCCGGTACAGCCCAAACACCATATCAACGGTACGCGCATCGCCCAGGGTTGCGGCGCGCAGCTCCTGCACATCCTGATTCCAGCGCTGAGGCATATTGACGATTAACGAACCGGAAGGGAAGGTGCGCGAATAATGCTGCTGGTGCCAGGCGCTGATCAGGTTGAAAACCCAGTCATCGGTGGTGTATTTACCACTCAGGGTCTGGCTGTCAGTGCAGCGCCGCATGTACGGGTCTGGTGAACCATCGCTGATCGACAGCTTACGGCCCTTAATATCATTCCATCCCACATAGGCGTCCTGGGTGGCGCGGGTACATTCGCGTGAGGCGGCAAAGCCCATTTCCCAGGGCTGATCGTCCGGCGCCAGACGCAGTTTCACATTCCCTATGCTGGCGCGGGTGCCGCCTAAGTCATCGCTTCCCGTCGCGGGGTTAATCATGTCGCCGTCATCAACCTGGCGTAACAGGGTGACGCTGCCGTACAGCAGGCCATCCTGAATGGGGCCGCTCAGGTTGAACTTACTTCGATAACTGTCGCGGCTACTGACGCCGCCTTCAATATAGCCGCGCGGCGTGCTGTCCGGCTGCTGGGTGACGATGTTGATGATCCCGCCCTGAGCGCTTTTGCCATATAACGTTCCCTGTGGGCCTCGCAGCAACTCCACGCTTTGCACATCGGTAAGCGCCTGGATGGTGTTGGTGGAAAGCTGAGGGACGCCATCGACATACAGGGTGACGGCGGGGTTATAGAAGTCCTGCGCTGAAGAGACGCCGCGTAGCGAGATCGTCGAAAAAAGCATGTTGCCGCTATTTTCAATATTGAGCCCGGGCAAGACTCTGGGGAGTTTGTCGCTGGCGGTGACGCCGGCGTCGCTTAATTCCGGCGCGCTGACAACAGTAGACGAGACGTTGTTGGCTGATGCCGAGCGGGAAGATTGTTTACTGGCGGTAACCACCAGCGTGCTTTCGTCTTGCTGTGAAGTCTGGGCATTAGCAATGGCGGGGAGCAATAATCCCCCCAAGGCCAGAGGATAAAGCCGTGTCATTTTCAT\"\n",
    "# DEBUT : à modifier par l'étudiant\n",
    "pass\n",
    "# FIN : à modifier par l'étudiant"
   ]
  },
  {
   "cell_type": "markdown",
   "metadata": {},
   "source": [
    "<div class=\"alert alert-block alert-success\">\n",
    "    <b>Exercice.</b>\n",
    "    Afficher les 2 derniers éléments de la séquence fyuA_r.\n",
    "</div>"
   ]
  },
  {
   "cell_type": "code",
   "execution_count": null,
   "metadata": {},
   "outputs": [],
   "source": [
    "fyuA_r = \"TCAGAAGAAATCAATTCGCGTATTGATACCGACGGTGCGACCCATATTGACCTGCGCGACGGCGCTGCTGCCGTTCATGTAGCCATAGGTACGGTAACGACGGTCGAACAGGTTATCGACATAGACGGAAATGTTCATCCGTTCAGTCGCCTGCCAGCCCAGGCTGCTGTCCAGGGTGGCATAGGTGCCTTGCCGCAACTGGTTGTCGCCATCGTAATAATGCGGCCCGACCAGATTAACCGCCAGTCGGGGCATCAGTGCGCCATAGCGCGTATCAATCACGCCGTTCACGCTGCTTCCCGCGCCATAACGTGGTACGAACGGCACCCGGTTACCGTGATACAACTCACTGTCATTGGTGAATTCGGAACGGATCACGTTGCCATTGATATCCCATGACCAGCCTGGCGCAAACCGCCACTTCGCTTCAAGCTCAACGCCGGTGGCGTCGGCTTTACCCGCATTGCTTAATGTCTGCATCCCGACCGGGCCAGAGTAAAGCTGAATGTCTTTGGTGTGGGTATAAAACGTCGCGGCTTGCAGCGTGACGTCAGCGGTTTCGTAGCGGGTGCCAAGTTCATAGTTGATGGATTTCTCGGCGACGAACGGTTTGGCATCAAGACCCGCAGTAGGCACGATGTTGTACCCGGAAGGTTTATATCCCTGGGCTACACGGGTATACACTCTCCAGTCATCGGTCAGCATATAGCCTGCGGATAGCTGCCCGAGCACCTGATCGTCATTGCTCTTACCCTGGTCGCCAAACGGGTTGCCGAGCATGCTGCCGTGATATTGTGTACTGGATTTATCATGCGAGAAGCGCACGCCGCCGCCGATTTCAAAACGATCGGTTAAATGCCAGGTCAGGTCACTGTATGCGGCCAGCGTTTCAGCGGTGGTATAGCCGGTACTGCTTAAATAAGGCATTGTCGGCATGTCGTAGGCTGAATTTAACTTCTCGCGGGTGTTCTGCCGGTACAGCCCAAACACCATATCAACGGTACGCGCATCGCCCAGGGTTGCGGCGCGCAGCTCCTGCACATCCTGATTCCAGCGCTGAGGCATATTGACGATTAACGAACCGGAAGGGAAGGTGCGCGAATAATGCTGCTGGTGCCAGGCGCTGATCAGGTTGAAAACCCAGTCATCGGTGGTGTATTTACCACTCAGGGTCTGGCTGTCAGTGCAGCGCCGCATGTACGGGTCTGGTGAACCATCGCTGATCGACAGCTTACGGCCCTTAATATCATTCCATCCCACATAGGCGTCCTGGGTGGCGCGGGTACATTCGCGTGAGGCGGCAAAGCCCATTTCCCAGGGCTGATCGTCCGGCGCCAGACGCAGTTTCACATTCCCTATGCTGGCGCGGGTGCCGCCTAAGTCATCGCTTCCCGTCGCGGGGTTAATCATGTCGCCGTCATCAACCTGGCGTAACAGGGTGACGCTGCCGTACAGCAGGCCATCCTGAATGGGGCCGCTCAGGTTGAACTTACTTCGATAACTGTCGCGGCTACTGACGCCGCCTTCAATATAGCCGCGCGGCGTGCTGTCCGGCTGCTGGGTGACGATGTTGATGATCCCGCCCTGAGCGCTTTTGCCATATAACGTTCCCTGTGGGCCTCGCAGCAACTCCACGCTTTGCACATCGGTAAGCGCCTGGATGGTGTTGGTGGAAAGCTGAGGGACGCCATCGACATACAGGGTGACGGCGGGGTTATAGAAGTCCTGCGCTGAAGAGACGCCGCGTAGCGAGATCGTCGAAAAAAGCATGTTGCCGCTATTTTCAATATTGAGCCCGGGCAAGACTCTGGGGAGTTTGTCGCTGGCGGTGACGCCGGCGTCGCTTAATTCCGGCGCGCTGACAACAGTAGACGAGACGTTGTTGGCTGATGCCGAGCGGGAAGATTGTTTACTGGCGGTAACCACCAGCGTGCTTTCGTCTTGCTGTGAAGTCTGGGCATTAGCAATGGCGGGGAGCAATAATCCCCCCAAGGCCAGAGGATAAAGCCGTGTCATTTTCAT\"\n",
    "# DEBUT : à modifier par l'étudiant\n",
    "pass\n",
    "# FIN : à modifier par l'étudiant"
   ]
  },
  {
   "cell_type": "markdown",
   "metadata": {},
   "source": [
    "<div class=\"alert alert-block alert-success\">\n",
    "    <b>Exercice.</b>\n",
    "    Afficher la séquence retournée de fyuA_r (de la dernière base à la première base).\n",
    "</div>"
   ]
  },
  {
   "cell_type": "code",
   "execution_count": null,
   "metadata": {},
   "outputs": [],
   "source": [
    "fyuA_r = \"TCAGAAGAAATCAATTCGCGTATTGATACCGACGGTGCGACCCATATTGACCTGCGCGACGGCGCTGCTGCCGTTCATGTAGCCATAGGTACGGTAACGACGGTCGAACAGGTTATCGACATAGACGGAAATGTTCATCCGTTCAGTCGCCTGCCAGCCCAGGCTGCTGTCCAGGGTGGCATAGGTGCCTTGCCGCAACTGGTTGTCGCCATCGTAATAATGCGGCCCGACCAGATTAACCGCCAGTCGGGGCATCAGTGCGCCATAGCGCGTATCAATCACGCCGTTCACGCTGCTTCCCGCGCCATAACGTGGTACGAACGGCACCCGGTTACCGTGATACAACTCACTGTCATTGGTGAATTCGGAACGGATCACGTTGCCATTGATATCCCATGACCAGCCTGGCGCAAACCGCCACTTCGCTTCAAGCTCAACGCCGGTGGCGTCGGCTTTACCCGCATTGCTTAATGTCTGCATCCCGACCGGGCCAGAGTAAAGCTGAATGTCTTTGGTGTGGGTATAAAACGTCGCGGCTTGCAGCGTGACGTCAGCGGTTTCGTAGCGGGTGCCAAGTTCATAGTTGATGGATTTCTCGGCGACGAACGGTTTGGCATCAAGACCCGCAGTAGGCACGATGTTGTACCCGGAAGGTTTATATCCCTGGGCTACACGGGTATACACTCTCCAGTCATCGGTCAGCATATAGCCTGCGGATAGCTGCCCGAGCACCTGATCGTCATTGCTCTTACCCTGGTCGCCAAACGGGTTGCCGAGCATGCTGCCGTGATATTGTGTACTGGATTTATCATGCGAGAAGCGCACGCCGCCGCCGATTTCAAAACGATCGGTTAAATGCCAGGTCAGGTCACTGTATGCGGCCAGCGTTTCAGCGGTGGTATAGCCGGTACTGCTTAAATAAGGCATTGTCGGCATGTCGTAGGCTGAATTTAACTTCTCGCGGGTGTTCTGCCGGTACAGCCCAAACACCATATCAACGGTACGCGCATCGCCCAGGGTTGCGGCGCGCAGCTCCTGCACATCCTGATTCCAGCGCTGAGGCATATTGACGATTAACGAACCGGAAGGGAAGGTGCGCGAATAATGCTGCTGGTGCCAGGCGCTGATCAGGTTGAAAACCCAGTCATCGGTGGTGTATTTACCACTCAGGGTCTGGCTGTCAGTGCAGCGCCGCATGTACGGGTCTGGTGAACCATCGCTGATCGACAGCTTACGGCCCTTAATATCATTCCATCCCACATAGGCGTCCTGGGTGGCGCGGGTACATTCGCGTGAGGCGGCAAAGCCCATTTCCCAGGGCTGATCGTCCGGCGCCAGACGCAGTTTCACATTCCCTATGCTGGCGCGGGTGCCGCCTAAGTCATCGCTTCCCGTCGCGGGGTTAATCATGTCGCCGTCATCAACCTGGCGTAACAGGGTGACGCTGCCGTACAGCAGGCCATCCTGAATGGGGCCGCTCAGGTTGAACTTACTTCGATAACTGTCGCGGCTACTGACGCCGCCTTCAATATAGCCGCGCGGCGTGCTGTCCGGCTGCTGGGTGACGATGTTGATGATCCCGCCCTGAGCGCTTTTGCCATATAACGTTCCCTGTGGGCCTCGCAGCAACTCCACGCTTTGCACATCGGTAAGCGCCTGGATGGTGTTGGTGGAAAGCTGAGGGACGCCATCGACATACAGGGTGACGGCGGGGTTATAGAAGTCCTGCGCTGAAGAGACGCCGCGTAGCGAGATCGTCGAAAAAAGCATGTTGCCGCTATTTTCAATATTGAGCCCGGGCAAGACTCTGGGGAGTTTGTCGCTGGCGGTGACGCCGGCGTCGCTTAATTCCGGCGCGCTGACAACAGTAGACGAGACGTTGTTGGCTGATGCCGAGCGGGAAGATTGTTTACTGGCGGTAACCACCAGCGTGCTTTCGTCTTGCTGTGAAGTCTGGGCATTAGCAATGGCGGGGAGCAATAATCCCCCCAAGGCCAGAGGATAAAGCCGTGTCATTTTCAT\"\n",
    "# DEBUT : à modifier par l'étudiant\n",
    "pass\n",
    "# FIN : à modifier par l'étudiant"
   ]
  },
  {
   "cell_type": "markdown",
   "metadata": {},
   "source": [
    "##### Tuples\n",
    "Un tuple est une séquence *immutable* : on ne peut pas la modifier.<br/>\n",
    "On déclare un tuple avec des parenthèses :\n",
    "```python\n",
    "(4,\"abricots\")\n",
    "```"
   ]
  },
  {
   "cell_type": "markdown",
   "metadata": {},
   "source": [
    "<div class=\"alert alert-block alert-success\">\n",
    "    <b>Exercice.</b>\n",
    "    Déclarer un tuple qui\n",
    "    contient deux éléments : la chaîne de caractères ’ab’ et le Booléen VRAI.\n",
    "</div>"
   ]
  },
  {
   "cell_type": "code",
   "execution_count": null,
   "metadata": {},
   "outputs": [],
   "source": [
    "# DEBUT : à modifier par l'étudiant\n",
    "pass\n",
    "# FIN : à modifier par l'étudiant"
   ]
  },
  {
   "cell_type": "markdown",
   "metadata": {},
   "source": [
    "##### Listes\n",
    "Une liste est une séquence *mutable* : on peut la modifier.<br/>\n",
    "On déclare une liste avec des crochets :\n",
    "```python\n",
    "[4,\"abricots\"]\n",
    "```\n",
    "\n",
    "Voici des exemples de modification d'une liste :\n",
    "\n",
    "```python\n",
    "a = [4,5,8,9,9,8]\n",
    "a[0] = 5\n",
    "a[2:4] = [2]\n",
    "del a[3]\n",
    "```\n"
   ]
  },
  {
   "cell_type": "markdown",
   "metadata": {},
   "source": [
    "<div class=\"alert alert-block alert-success\">\n",
    "    <b>Exercice.</b>\n",
    "    Supprimer le $2^e$ et le $3^e$ élément de la liste a.\n",
    "</div>"
   ]
  },
  {
   "cell_type": "code",
   "execution_count": null,
   "metadata": {},
   "outputs": [],
   "source": [
    "a = [4,5,8,9,9,8]\n",
    "id_a = id(a)\n",
    "# DEBUT : à modifier par l'étudiant\n",
    "pass\n",
    "# FIN : à modifier par l'étudiant\n",
    "\n",
    "# --------- tests -------- #\n",
    "try:\n",
    "    assert len(a)==4, 'Erreur : la liste modifiée doit contenir 4 éléments.'\n",
    "    assert a==[4,5,9,8], 'Erreur : la liste modifiée doit contenir les éléments 4, 5, 9 et 8.'\n",
    "    assert id(a)==id_a, 'Erreur : la liste doit être modifiée en place.'\n",
    "    print(\"Ok\")\n",
    "except AssertionError as e:\n",
    "    print(e)   "
   ]
  },
  {
   "cell_type": "markdown",
   "metadata": {},
   "source": [
    "##### Dictionnaires\n",
    "Les dictionnaires sont des ensembles\n",
    "de couples clé / valeur. Ils peuvent être créés par la déclaration d’un agencement de\n",
    "dictionnaire, i.e., est une série (possiblement vide) de couples clé / valeur entouré par\n",
    "des accolades :\n",
    "```python\n",
    "h = {'nom':'Haenel', 'prénom':'Adele', 'age':32}\n",
    "```\n",
    "\n",
    "Voici quelques instructions qui permettent de récupérer la liste des clés, des valeurs d'un dictionnaire, de tester une clé est présente dans le dictionnaire, ou de rajouter/modifier un couple clé/valeur :\n",
    "```python\n",
    "h.keys()\n",
    "h.values()\n",
    "h.items()\n",
    "'nom' in h\n",
    "h['profession']='actrice'\n",
    "```"
   ]
  },
  {
   "cell_type": "markdown",
   "metadata": {},
   "source": [
    "<div class=\"alert alert-block alert-success\">\n",
    "    <b>Exercice.</b>\n",
    "    Déclarer un dictionnaire qui associe la chaîne de caractères \"Sciamma\" à la clé 'nom' et le nombre 15 à la clé \"note\".\n",
    "</div>"
   ]
  },
  {
   "cell_type": "code",
   "execution_count": null,
   "metadata": {},
   "outputs": [],
   "source": [
    "# DEBUT : à modifier par l'étudiant\n",
    "pass\n",
    "# FIN : à modifier par l'étudiant"
   ]
  },
  {
   "cell_type": "markdown",
   "metadata": {},
   "source": [
    "##### Ensembles\n",
    "Les ensembles sont des collections d'un nombre fini d'objets dont les élements sont uniques et non ordonnés.<br/>\n",
    "On déclare un ensemble entre accolades {} :\n",
    "\n",
    "```python\n",
    "e = {4,8,2}\n",
    "d = {3}\n",
    "e.union(d)\n",
    "e.intersection(d)\n",
    "e.is_disjoint(d)\n",
    "e - d\n",
    "```"
   ]
  },
  {
   "cell_type": "markdown",
   "metadata": {},
   "source": [
    "<div class=\"alert alert-block alert-success\">\n",
    "    <b>Exercice.</b>\n",
    "    Combien d'éléments contient l'ensemble e suivant ? Les ensembles e et d sont-ils disjoints ? Calculer l'intersection, l'union, et la différence symétrique entre ces ensembles.\n",
    "</div>"
   ]
  },
  {
   "cell_type": "code",
   "execution_count": null,
   "metadata": {},
   "outputs": [],
   "source": [
    "e = {3,3,2}\n",
    "d = {3,1}\n",
    "# DEBUT : à modifier par l'étudiant\n",
    "pass\n",
    "# FIN : à modifier par l'étudiant"
   ]
  },
  {
   "cell_type": "markdown",
   "metadata": {},
   "source": [
    "<a id=\"cosin\"></a>\n",
    "### Exemple d'application : la similarité cosinus"
   ]
  },
  {
   "cell_type": "markdown",
   "metadata": {},
   "source": [
    "<div class=\"alert alert-block alert-success\">\n",
    "    <b>Exercice.</b>\n",
    "    Soit $\\overrightarrow{a}$=($a_1$,$a_2$,...,$a_n$)$\\in\\mathbb{R}^n$\n",
    "un vecteur de réels.\n",
    "Quelle structure de données utiliserait-on en Python pour représenter\n",
    "un tel vecteur ?\n",
    "Donner des exemples de déclaration pour les deux vecteurs\n",
    "$\\overrightarrow{a}=(3,4)$\n",
    "et\n",
    " $\\overrightarrow{b}=(-3,5)$.\n",
    "</div>\n"
   ]
  },
  {
   "cell_type": "code",
   "execution_count": null,
   "metadata": {},
   "outputs": [],
   "source": [
    "import matplotlib.pyplot as plt\n",
    "import numpy as np\n",
    "import math\n",
    "\n",
    "# DEBUT : à modifier par l'étudiant\n",
    "# a = ...\n",
    "# b = ...\n",
    "pass\n",
    "# FIN : à modifier par l'étudiant\n",
    "\n",
    "# --------- tests -------- #\n",
    "try:\n",
    "    assert a is not None, 'Erreur : a ne doit pas être nul'\n",
    "    assert b is not None, 'Erreur : b ne doit pas être nul'\n",
    "    assert len(a)==2, 'Erreur : le vecteur a doit contenir 2 éléments.'\n",
    "    assert len(b)==2, 'Erreur : le vecteur a doit contenir 2 éléments.'\n",
    "    print(\"Ok\")\n",
    "    hl=0.2\n",
    "    hw=0.2\n",
    "\n",
    "    def norm(u):\n",
    "        return math.sqrt(u[0]**2+u[1]**2)\n",
    "\n",
    "    ax = plt.axes()\n",
    "    ax.arrow(0, 0, a[0]*(norm(a)-hl)/norm(a), a[1]*(norm(a)-hl)/norm(a), head_width=hw, head_length=hl, fc='blue', ec='blue')\n",
    "    ax.annotate(r'$\\overrightarrow{a}$', (2,2),fontsize=14,color='blue')\n",
    "    ax.arrow(0, 0, b[0]*(norm(b)-hl)/norm(b), b[1]*(norm(b)-hl)/norm(b), head_width=hw, head_length=hl, fc='red', ec='red')\n",
    "    ax.annotate(r'$\\overrightarrow{b}$', (-2,2),fontsize=14,color='red')\n",
    "    plt.grid()\n",
    "\n",
    "    plt.xlim(-4,4)\n",
    "    plt.ylim(0,5)\n",
    "    plt.show()\n",
    "    \n",
    "except AssertionError as e:\n",
    "    print(e) "
   ]
  },
  {
   "cell_type": "markdown",
   "metadata": {},
   "source": [
    "Une façon d'évaluer la similarité entre deux vecteurs\n",
    "$\\overrightarrow{a}$ et $\\overrightarrow{b}$ est de calculer\n",
    "le cosinus de l'angle formé par les deux vecteurs, dont la formule est\n",
    "donnée par :\n",
    "\n",
    "![](images/cosin.png)"
   ]
  },
  {
   "cell_type": "markdown",
   "metadata": {},
   "source": [
    "<div class=\"alert alert-block alert-success\">\n",
    "    <b>Exercice.</b>\n",
    "Compléter la fonction dot suivante qui calcule le produit scalaire\n",
    "$\\overrightarrow{a}.\\overrightarrow{b}$ entre deux vecteurs.\n",
    "</div>"
   ]
  },
  {
   "cell_type": "code",
   "execution_count": null,
   "metadata": {},
   "outputs": [],
   "source": [
    "import math\n",
    "def dot(u,v):\n",
    "    r = 0.\n",
    "    # DEBUT : à modifier par l'étudiant\n",
    "    pass\n",
    "    # FIN : à modifier par l'étudiant\n",
    "    return r\n",
    "\n",
    "# --------- tests -------- #\n",
    "try:\n",
    "    assert dot(a,b)==11.0, 'Erreur : le produit scalaire entre les vecteurs a et b doit valoir 11.0.'\n",
    "    print(\"Ok\")\n",
    "except AssertionError as e:\n",
    "    print(e)   "
   ]
  },
  {
   "cell_type": "markdown",
   "metadata": {},
   "source": [
    "La fonction norm suivante permet de calculer la norme Euclidienne $\\left\\lVert\\overrightarrow{u}\\right\\rVert$ d'un vecteur $\\overrightarrow{u}$:\n",
    "    \n",
    "```Python\n",
    "    def norm(u):\n",
    "        return math.sqrt(u[0]**2+u[1]**2)\n",
    "```\n",
    "Ici, la fonction math.sqrt renvoie la racine carré du nombre qu'on lui donne en paramètre.\n",
    "    \n",
    "On appelle la fonction norm de la manière suivante, en lui passant en paramètre un vecteur, par exemple le vecteur a :\n",
    "```Python\n",
    "norm(a)\n",
    "```"
   ]
  },
  {
   "cell_type": "markdown",
   "metadata": {},
   "source": [
    "<div class=\"alert alert-block alert-success\">\n",
    "    <b>Exercice.</b>\n",
    "Utiliser les fonctions dot et norm pour calculer le cosinus entre les deux vecteurs $\\overrightarrow{a}=(3,4)$ et $\\overrightarrow{b}=(-3,5)$.\n",
    "</div>\n"
   ]
  },
  {
   "cell_type": "code",
   "execution_count": null,
   "metadata": {},
   "outputs": [],
   "source": [
    "def cosin(a,b):\n",
    "    res = 0.\n",
    "    # DEBUT : à modifier par l'étudiant\n",
    "    pass\n",
    "    # FIN : à modifier par l'étudiant\n",
    "    return res\n",
    "\n",
    "# --------- tests -------- #\n",
    "try:\n",
    "    assert cosin(a,b)==0.37729688731351946, 'Erreur : le cosinus de l\\'angle entre les vecteurs a et b doit valoir 0.37729688731351946 '\n",
    "    print(\"Ok\")\n",
    "except AssertionError as e:\n",
    "    print(e)   "
   ]
  },
  {
   "cell_type": "markdown",
   "metadata": {},
   "source": [
    "La fonction angle suivante convertit un angle de radians en degrés à\n",
    "l'aide de la fonction arccosinus (math.acos) :\n",
    "```Python\n",
    "def angle(c):\n",
    "    return math.acos(c)/math.pi*180\n",
    "```"
   ]
  },
  {
   "cell_type": "markdown",
   "metadata": {},
   "source": [
    "<div class=\"alert alert-block alert-success\">\n",
    "    <b>Exercice.</b>\n",
    "    Calculer l'angle en degrés entre les vecteurs $\\overrightarrow{a}=(3,4)$ et $\\overrightarrow{b}=(-3,5)$.\n",
    "</div>"
   ]
  },
  {
   "cell_type": "code",
   "execution_count": null,
   "metadata": {},
   "outputs": [],
   "source": [
    "# DEBUT : à modifier par l'étudiant\n",
    "pass\n",
    "# FIN : à modifier par l'étudiant"
   ]
  }
 ],
 "metadata": {
  "celltoolbar": "Format de la Cellule Texte Brut",
  "interpreter": {
   "hash": "5e2560e47150d00f95a35ecc89d62f2c0501584462c781c5ebe527f5b05268a1"
  },
  "kernelspec": {
   "display_name": "Python 3 (ipykernel)",
   "language": "python",
   "name": "python3"
  },
  "language_info": {
   "codemirror_mode": {
    "name": "ipython",
    "version": 3
   },
   "file_extension": ".py",
   "mimetype": "text/x-python",
   "name": "python",
   "nbconvert_exporter": "python",
   "pygments_lexer": "ipython3",
   "version": "3.7.11"
  }
 },
 "nbformat": 4,
 "nbformat_minor": 2
}
