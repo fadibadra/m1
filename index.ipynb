{
 "cells": [
  {
   "cell_type": "markdown",
   "metadata": {},
   "source": [
    "## Bienvenue !\n",
    "Cliquer sur une cellule et presser Entrée pour éditer une cellule.<br/>\n",
    "Appuyer sur Shift+Entrée pour exécuter la cellule.<br/>\n",
    "Pour répondre à un exercice, remplacer le bloc\n",
    "```python\n",
    "# DEBUT : à modifier par l'étudiant\n",
    "pass\n",
    "# FIN : à modifier par l'étudiant\n",
    "```\n",
    "par votre code et exécuter la cellule.\n",
    "<hr/>"
   ]
  },
  {
   "cell_type": "markdown",
   "metadata": {},
   "source": []
  }
 ],
 "metadata": {
  "language_info": {
   "name": "python"
  }
 },
 "nbformat": 4,
 "nbformat_minor": 2
}
